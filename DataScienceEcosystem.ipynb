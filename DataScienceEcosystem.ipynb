{
 "cells": [
  {
   "cell_type": "markdown",
   "id": "dea4287c-4d87-4f24-825a-dab08713f1b1",
   "metadata": {
    "tags": []
   },
   "source": [
    "# Data Science Tools and Ecosystem"
   ]
  },
  {
   "cell_type": "markdown",
   "id": "9fe0d177-e03c-48ff-af93-2b7f7b309769",
   "metadata": {
    "tags": []
   },
   "source": [
    "In this notebook, Data Science Tools and Ecosystem are summarized"
   ]
  },
  {
   "cell_type": "markdown",
   "id": "24f54824-7c04-4be2-a85a-90f35564f4eb",
   "metadata": {},
   "source": [
    "**Objectives:**\n",
    "\n",
    "*List popular languages for Data Science.*\n",
    "+ Python\n",
    "+ R\n",
    "+ SQL\n",
    "+ Java\n",
    "+ Julia\n",
    "+ Scala"
   ]
  },
  {
   "cell_type": "markdown",
   "id": "68a0b3f1-975b-4819-b344-e964ce92c7ba",
   "metadata": {},
   "source": [
    "### Some of the popular languages that Data Scientists use are:\n",
    "\n",
    "1. Python\n",
    "2. R\n",
    "3. SQL\n",
    "4. Java\n",
    "5. Julia\n",
    "6. Scala"
   ]
  },
  {
   "cell_type": "markdown",
   "id": "b17b5d86-651f-4d03-877d-8fe51a9581be",
   "metadata": {},
   "source": [
    "### Some of the commonly used libraries used by Data Scientists include\n",
    "\n",
    "1. Numpy\n",
    "2. pandas\n",
    "3. scikit-learn\n",
    "4. TensorFlow\n",
    "5. Keras\n",
    "6. Matplotlib"
   ]
  },
  {
   "cell_type": "markdown",
   "id": "0c9330bc-cfcc-4a8d-b7d9-eb4fd75ad034",
   "metadata": {},
   "source": [
    "|Data Science Tools|Information About|\n",
    "|------------------|-----------------|\n",
    "|Jupyter Notebooks|interactive web-based environment that allow you to create and share documents|\n",
    "|Jupyter Lab|next version of Jupyter Notebooks|\n",
    "|RStudio|oldest development environment for statistic and data scie|"
   ]
  },
  {
   "cell_type": "markdown",
   "id": "7d466996-5c6e-4dac-831c-d95094ffc782",
   "metadata": {
    "tags": []
   },
   "source": [
    "## Author\n",
    "Fitrah Rahmi Putri"
   ]
  }
 ],
 "metadata": {
  "kernelspec": {
   "display_name": "Python",
   "language": "python",
   "name": "conda-env-python-py"
  },
  "language_info": {
   "codemirror_mode": {
    "name": "ipython",
    "version": 3
   },
   "file_extension": ".py",
   "mimetype": "text/x-python",
   "name": "python",
   "nbconvert_exporter": "python",
   "pygments_lexer": "ipython3",
   "version": "3.7.12"
  }
 },
 "nbformat": 4,
 "nbformat_minor": 5
}
